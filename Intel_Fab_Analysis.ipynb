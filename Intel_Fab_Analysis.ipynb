{
 "cells": [
  {
   "cell_type": "markdown",
   "id": "a78f4d1b",
   "metadata": {},
   "source": [
    "# Intel-Inspired Semiconductor Fab Analysis (MSE 507 Project)\n",
    "**Author:** Jean Paul Collazo Arguedas  \n",
    "**Course:** MSE 507 – Lean Manufacturing Systems  \n",
    "**Date:** May 10, 2025"
   ]
  },
  {
   "cell_type": "code",
   "execution_count": null,
   "id": "e98b7cf8",
   "metadata": {},
   "outputs": [],
   "source": [
    "import pandas as pd\n",
    "import matplotlib.pyplot as plt\n",
    "import seaborn as sns\n",
    "\n",
    "df = pd.read_csv(\"Intel_Fab_Dataset.csv\")\n",
    "df.head()\n"
   ]
  },
  {
   "cell_type": "code",
   "execution_count": null,
   "id": "02e609c8",
   "metadata": {},
   "outputs": [],
   "source": [
    "summary = df.groupby(\"Fab_Step\")[[\"Cycle_Time_Sec\", \"Queue_Time_Sec\"]].mean()\n",
    "summary.to_csv(\"summary_cycle_queue_by_step.csv\")\n",
    "summary\n"
   ]
  },
  {
   "cell_type": "code",
   "execution_count": null,
   "id": "ed3ba7d1",
   "metadata": {},
   "outputs": [],
   "source": [
    "sns.set(style=\"whitegrid\")\n",
    "sns.barplot(x=summary.index, y=summary[\"Cycle_Time_Sec\"])\n",
    "plt.title(\"Avg Cycle Time by Fab Step\")\n",
    "plt.ylabel(\"Cycle Time (s)\")\n",
    "plt.xticks(rotation=45)\n",
    "plt.tight_layout()\n",
    "plt.show()\n"
   ]
  },
  {
   "cell_type": "code",
   "execution_count": null,
   "id": "818c4aa1",
   "metadata": {},
   "outputs": [],
   "source": [
    "sns.barplot(x=summary.index, y=summary[\"Queue_Time_Sec\"])\n",
    "plt.title(\"Avg Queue Time by Fab Step\")\n",
    "plt.ylabel(\"Queue Time (s)\")\n",
    "plt.xticks(rotation=45)\n",
    "plt.tight_layout()\n",
    "plt.show()\n"
   ]
  },
  {
   "cell_type": "code",
   "execution_count": null,
   "id": "4d9af111",
   "metadata": {},
   "outputs": [],
   "source": [
    "status_counts = df[\"Machine_Status\"].value_counts()\n",
    "status_counts.plot.pie(autopct=\"%1.1f%%\", startangle=90)\n",
    "plt.title(\"Machine Status Distribution\")\n",
    "plt.ylabel(\"\")\n",
    "plt.tight_layout()\n",
    "plt.show()\n"
   ]
  },
  {
   "cell_type": "code",
   "execution_count": null,
   "id": "02323053",
   "metadata": {},
   "outputs": [],
   "source": [
    "sns.histplot(df[\"Wafer_Yield_Percent\"], bins=30, kde=True)\n",
    "plt.title(\"Wafer Yield Distribution\")\n",
    "plt.xlabel(\"Yield (%)\")\n",
    "plt.tight_layout()\n",
    "plt.show()\n"
   ]
  },
  {
   "cell_type": "code",
   "execution_count": null,
   "id": "9f9fd8a4",
   "metadata": {},
   "outputs": [],
   "source": [
    "sns.histplot(df[\"Defect_Count\"], bins=20)\n",
    "plt.title(\"Defect Count Distribution\")\n",
    "plt.xlabel(\"Defects\")\n",
    "plt.tight_layout()\n",
    "plt.show()\n"
   ]
  },
  {
   "cell_type": "code",
   "execution_count": null,
   "id": "3791512a",
   "metadata": {},
   "outputs": [],
   "source": [
    "corr = df[[\"Cycle_Time_Sec\", \"Queue_Time_Sec\", \"Wafer_Yield_Percent\", \"Defect_Count\"]].corr()\n",
    "sns.heatmap(corr, annot=True, cmap=\"coolwarm\")\n",
    "plt.title(\"Correlation Heatmap\")\n",
    "plt.tight_layout()\n",
    "plt.show()\n"
   ]
  },
  {
   "cell_type": "code",
   "execution_count": null,
   "id": "282a9769",
   "metadata": {},
   "outputs": [],
   "source": [
    "df_sorted = df.sort_values(\"Run_Timestamp\")\n",
    "plt.figure(figsize=(12, 6))\n",
    "plt.plot(df_sorted[\"Run_Timestamp\"], df_sorted[\"Cycle_Time_Sec\"], alpha=0.3)\n",
    "plt.title(\"Cycle Time Over Time\")\n",
    "plt.xlabel(\"Timestamp\")\n",
    "plt.ylabel(\"Cycle Time (s)\")\n",
    "plt.tight_layout()\n",
    "plt.show()\n"
   ]
  },
  {
   "cell_type": "code",
   "execution_count": null,
   "id": "bb876c56",
   "metadata": {},
   "outputs": [],
   "source": [
    "sns.scatterplot(data=df, x=\"Queue_Time_Sec\", y=\"Defect_Count\", alpha=0.3)\n",
    "plt.title(\"Queue Time vs Defect Count\")\n",
    "plt.xlabel(\"Queue Time (s)\")\n",
    "plt.ylabel(\"Defect Count\")\n",
    "plt.tight_layout()\n",
    "plt.show()\n"
   ]
  }
 ],
 "metadata": {},
 "nbformat": 4,
 "nbformat_minor": 5
}